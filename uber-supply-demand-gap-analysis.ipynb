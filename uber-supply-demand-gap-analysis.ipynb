{
 "cells": [
  {
   "cell_type": "code",
   "execution_count": 50,
   "metadata": {
    "execution": {
     "iopub.execute_input": "2022-05-03T15:44:55.861907Z",
     "iopub.status.busy": "2022-05-03T15:44:55.861540Z",
     "iopub.status.idle": "2022-05-03T15:44:55.869234Z",
     "shell.execute_reply": "2022-05-03T15:44:55.868416Z",
     "shell.execute_reply.started": "2022-05-03T15:44:55.861871Z"
    }
   },
   "outputs": [],
   "source": [
    "#importing the required libraries\n",
    "import pandas as pd\n",
    "import numpy as np\n",
    "import matplotlib.pyplot as plt\n",
    "import seaborn as sns\n",
    "%matplotlib inline\n",
    "\n",
    "import warnings \n",
    "warnings.filterwarnings('ignore')"
   ]
  },
  {
   "cell_type": "code",
   "execution_count": 51,
   "metadata": {
    "execution": {
     "iopub.execute_input": "2022-05-03T15:44:55.876765Z",
     "iopub.status.busy": "2022-05-03T15:44:55.875809Z",
     "iopub.status.idle": "2022-05-03T15:44:55.923378Z",
     "shell.execute_reply": "2022-05-03T15:44:55.922758Z",
     "shell.execute_reply.started": "2022-05-03T15:44:55.876701Z"
    }
   },
   "outputs": [
    {
     "data": {
      "text/html": [
       "<div>\n",
       "<style scoped>\n",
       "    .dataframe tbody tr th:only-of-type {\n",
       "        vertical-align: middle;\n",
       "    }\n",
       "\n",
       "    .dataframe tbody tr th {\n",
       "        vertical-align: top;\n",
       "    }\n",
       "\n",
       "    .dataframe thead th {\n",
       "        text-align: right;\n",
       "    }\n",
       "</style>\n",
       "<table border=\"1\" class=\"dataframe\">\n",
       "  <thead>\n",
       "    <tr style=\"text-align: right;\">\n",
       "      <th></th>\n",
       "      <th>Request id</th>\n",
       "      <th>Pickup point</th>\n",
       "      <th>Driver id</th>\n",
       "      <th>Status</th>\n",
       "      <th>Request timestamp</th>\n",
       "      <th>Drop timestamp</th>\n",
       "    </tr>\n",
       "  </thead>\n",
       "  <tbody>\n",
       "    <tr>\n",
       "      <th>0</th>\n",
       "      <td>619</td>\n",
       "      <td>Airport</td>\n",
       "      <td>1.0</td>\n",
       "      <td>Trip Completed</td>\n",
       "      <td>11/7/2016 11:51</td>\n",
       "      <td>11/7/2016 13:00</td>\n",
       "    </tr>\n",
       "    <tr>\n",
       "      <th>1</th>\n",
       "      <td>867</td>\n",
       "      <td>Airport</td>\n",
       "      <td>1.0</td>\n",
       "      <td>Trip Completed</td>\n",
       "      <td>11/7/2016 17:57</td>\n",
       "      <td>11/7/2016 18:47</td>\n",
       "    </tr>\n",
       "    <tr>\n",
       "      <th>2</th>\n",
       "      <td>1807</td>\n",
       "      <td>City</td>\n",
       "      <td>1.0</td>\n",
       "      <td>Trip Completed</td>\n",
       "      <td>12/7/2016 9:17</td>\n",
       "      <td>12/7/2016 9:58</td>\n",
       "    </tr>\n",
       "    <tr>\n",
       "      <th>3</th>\n",
       "      <td>2532</td>\n",
       "      <td>Airport</td>\n",
       "      <td>1.0</td>\n",
       "      <td>Trip Completed</td>\n",
       "      <td>12/7/2016 21:08</td>\n",
       "      <td>12/7/2016 22:03</td>\n",
       "    </tr>\n",
       "    <tr>\n",
       "      <th>4</th>\n",
       "      <td>3112</td>\n",
       "      <td>City</td>\n",
       "      <td>1.0</td>\n",
       "      <td>Trip Completed</td>\n",
       "      <td>13-07-2016 08:33:16</td>\n",
       "      <td>13-07-2016 09:25:47</td>\n",
       "    </tr>\n",
       "  </tbody>\n",
       "</table>\n",
       "</div>"
      ],
      "text/plain": [
       "   Request id Pickup point  Driver id          Status    Request timestamp  \\\n",
       "0         619      Airport        1.0  Trip Completed      11/7/2016 11:51   \n",
       "1         867      Airport        1.0  Trip Completed      11/7/2016 17:57   \n",
       "2        1807         City        1.0  Trip Completed       12/7/2016 9:17   \n",
       "3        2532      Airport        1.0  Trip Completed      12/7/2016 21:08   \n",
       "4        3112         City        1.0  Trip Completed  13-07-2016 08:33:16   \n",
       "\n",
       "        Drop timestamp  \n",
       "0      11/7/2016 13:00  \n",
       "1      11/7/2016 18:47  \n",
       "2       12/7/2016 9:58  \n",
       "3      12/7/2016 22:03  \n",
       "4  13-07-2016 09:25:47  "
      ]
     },
     "execution_count": 51,
     "metadata": {},
     "output_type": "execute_result"
    }
   ],
   "source": [
    "# reading the csv file and printing head of the dataframe\n",
    "file_path = 'Uber Request Data.csv'\n",
    "uber = pd.read_csv(file_path)\n",
    "uber.head() "
   ]
  },
  {
   "cell_type": "code",
   "execution_count": 52,
   "metadata": {
    "execution": {
     "iopub.execute_input": "2022-05-03T15:44:55.925325Z",
     "iopub.status.busy": "2022-05-03T15:44:55.924982Z",
     "iopub.status.idle": "2022-05-03T15:44:55.935291Z",
     "shell.execute_reply": "2022-05-03T15:44:55.934751Z",
     "shell.execute_reply.started": "2022-05-03T15:44:55.925287Z"
    }
   },
   "outputs": [],
   "source": [
    "uber.drop_duplicates(inplace = True) # droping the duplcated rows any if any"
   ]
  },
  {
   "cell_type": "code",
   "execution_count": 53,
   "metadata": {
    "execution": {
     "iopub.execute_input": "2022-05-03T15:44:55.936884Z",
     "iopub.status.busy": "2022-05-03T15:44:55.936192Z",
     "iopub.status.idle": "2022-05-03T15:44:55.954933Z",
     "shell.execute_reply": "2022-05-03T15:44:55.953979Z",
     "shell.execute_reply.started": "2022-05-03T15:44:55.936852Z"
    }
   },
   "outputs": [
    {
     "data": {
      "text/plain": [
       "0"
      ]
     },
     "execution_count": 53,
     "metadata": {},
     "output_type": "execute_result"
    }
   ],
   "source": [
    "## confirming that no duplicated rows are present the dataframe\n",
    "\n",
    "uber.duplicated().sum() "
   ]
  },
  {
   "cell_type": "code",
   "execution_count": 54,
   "metadata": {
    "execution": {
     "iopub.execute_input": "2022-05-03T15:44:55.957104Z",
     "iopub.status.busy": "2022-05-03T15:44:55.956823Z",
     "iopub.status.idle": "2022-05-03T15:44:55.962191Z",
     "shell.execute_reply": "2022-05-03T15:44:55.961597Z",
     "shell.execute_reply.started": "2022-05-03T15:44:55.957073Z"
    }
   },
   "outputs": [
    {
     "data": {
      "text/plain": [
       "(6745, 6)"
      ]
     },
     "execution_count": 54,
     "metadata": {},
     "output_type": "execute_result"
    }
   ],
   "source": [
    "# lets see the shape of the dataframe\n",
    "uber.shape"
   ]
  },
  {
   "cell_type": "code",
   "execution_count": 55,
   "metadata": {
    "execution": {
     "iopub.execute_input": "2022-05-03T15:44:55.963646Z",
     "iopub.status.busy": "2022-05-03T15:44:55.963285Z",
     "iopub.status.idle": "2022-05-03T15:44:55.986921Z",
     "shell.execute_reply": "2022-05-03T15:44:55.985754Z",
     "shell.execute_reply.started": "2022-05-03T15:44:55.963606Z"
    }
   },
   "outputs": [
    {
     "name": "stdout",
     "output_type": "stream",
     "text": [
      "<class 'pandas.core.frame.DataFrame'>\n",
      "Int64Index: 6745 entries, 0 to 6744\n",
      "Data columns (total 6 columns):\n",
      " #   Column             Non-Null Count  Dtype  \n",
      "---  ------             --------------  -----  \n",
      " 0   Request id         6745 non-null   int64  \n",
      " 1   Pickup point       6745 non-null   object \n",
      " 2   Driver id          4095 non-null   float64\n",
      " 3   Status             6745 non-null   object \n",
      " 4   Request timestamp  6745 non-null   object \n",
      " 5   Drop timestamp     2831 non-null   object \n",
      "dtypes: float64(1), int64(1), object(4)\n",
      "memory usage: 368.9+ KB\n"
     ]
    }
   ],
   "source": [
    "# lets see the columns and their datatypes\n",
    "uber.info()"
   ]
  },
  {
   "cell_type": "code",
   "execution_count": 56,
   "metadata": {
    "execution": {
     "iopub.execute_input": "2022-05-03T15:44:55.989459Z",
     "iopub.status.busy": "2022-05-03T15:44:55.988507Z",
     "iopub.status.idle": "2022-05-03T15:44:56.001693Z",
     "shell.execute_reply": "2022-05-03T15:44:56.000789Z",
     "shell.execute_reply.started": "2022-05-03T15:44:55.989419Z"
    }
   },
   "outputs": [
    {
     "data": {
      "text/plain": [
       "Request id              0\n",
       "Pickup point            0\n",
       "Driver id            2650\n",
       "Status                  0\n",
       "Request timestamp       0\n",
       "Drop timestamp       3914\n",
       "dtype: int64"
      ]
     },
     "execution_count": 56,
     "metadata": {},
     "output_type": "execute_result"
    }
   ],
   "source": [
    "# chceking the number of nulls in the each column of the dataframe\n",
    "\n",
    "uber.isna().sum()"
   ]
  },
  {
   "cell_type": "code",
   "execution_count": 57,
   "metadata": {
    "execution": {
     "iopub.execute_input": "2022-05-03T15:44:56.003815Z",
     "iopub.status.busy": "2022-05-03T15:44:56.002969Z",
     "iopub.status.idle": "2022-05-03T15:44:56.019669Z",
     "shell.execute_reply": "2022-05-03T15:44:56.018666Z",
     "shell.execute_reply.started": "2022-05-03T15:44:56.003772Z"
    }
   },
   "outputs": [
    {
     "data": {
      "text/plain": [
       "Request id            0.000000\n",
       "Pickup point          0.000000\n",
       "Driver id            39.288362\n",
       "Status                0.000000\n",
       "Request timestamp     0.000000\n",
       "Drop timestamp       58.028169\n",
       "dtype: float64"
      ]
     },
     "execution_count": 57,
     "metadata": {},
     "output_type": "execute_result"
    }
   ],
   "source": [
    "#lets look at the pecentage of null values \n",
    "uber.isna().mean()*100"
   ]
  },
  {
   "cell_type": "markdown",
   "metadata": {},
   "source": [
    "There are two columns with null values \n",
    "\n",
    "1. Driver id\n",
    "2. Drop timestamp"
   ]
  },
  {
   "cell_type": "markdown",
   "metadata": {},
   "source": [
    "***Lets check any specific reason behind the coulmn values being null***"
   ]
  },
  {
   "cell_type": "code",
   "execution_count": 58,
   "metadata": {
    "execution": {
     "iopub.execute_input": "2022-05-03T15:44:56.022320Z",
     "iopub.status.busy": "2022-05-03T15:44:56.021742Z",
     "iopub.status.idle": "2022-05-03T15:44:56.032704Z",
     "shell.execute_reply": "2022-05-03T15:44:56.031945Z",
     "shell.execute_reply.started": "2022-05-03T15:44:56.022272Z"
    }
   },
   "outputs": [
    {
     "data": {
      "text/plain": [
       "No Cars Available    2650\n",
       "Name: Status, dtype: int64"
      ]
     },
     "execution_count": 58,
     "metadata": {},
     "output_type": "execute_result"
    }
   ],
   "source": [
    "# Getting the 'Driver id' column and obsevering the status values \n",
    "\n",
    "uber[uber['Driver id'].isnull()]['Status'].value_counts()"
   ]
  },
  {
   "cell_type": "code",
   "execution_count": 59,
   "metadata": {
    "execution": {
     "iopub.execute_input": "2022-05-03T15:44:56.035491Z",
     "iopub.status.busy": "2022-05-03T15:44:56.034637Z",
     "iopub.status.idle": "2022-05-03T15:44:56.046550Z",
     "shell.execute_reply": "2022-05-03T15:44:56.045891Z",
     "shell.execute_reply.started": "2022-05-03T15:44:56.035439Z"
    }
   },
   "outputs": [
    {
     "data": {
      "text/plain": [
       "No Cars Available    2650\n",
       "Cancelled            1264\n",
       "Name: Status, dtype: int64"
      ]
     },
     "execution_count": 59,
     "metadata": {},
     "output_type": "execute_result"
    }
   ],
   "source": [
    "# Getting the 'Drop timestamp' column and obsevering the status values \n",
    "\n",
    "uber[uber['Drop timestamp'].isnull()]['Status'].value_counts()"
   ]
  },
  {
   "cell_type": "markdown",
   "metadata": {},
   "source": [
    "Inference on Column Null - Values\n",
    "\n",
    "1. Driver id - 2650 Nulls\n",
    "2. Drop timestamp - 3914 Nulls\n",
    "\n",
    "The null values in Above mentioned columns are valid : - as the status value of these rows is being either the \"No Cars available\" or \"cancelled\"\n",
    "Hence they dont need to be imputed and these rows are carrying specific meaning with nulls values in those columns.\n",
    "\n",
    "**The Missing-type Identified : MNAR ( Missing Not At Random )**"
   ]
  },
  {
   "cell_type": "markdown",
   "metadata": {
    "execution": {
     "iopub.execute_input": "2022-05-02T03:31:08.759166Z",
     "iopub.status.busy": "2022-05-02T03:31:08.758326Z",
     "iopub.status.idle": "2022-05-02T03:31:08.764586Z",
     "shell.execute_reply": "2022-05-02T03:31:08.76356Z",
     "shell.execute_reply.started": "2022-05-02T03:31:08.759128Z"
    }
   },
   "source": [
    "**Correction of the datatypes**"
   ]
  },
  {
   "cell_type": "markdown",
   "metadata": {},
   "source": [
    "We will do the following datatype corrections\n",
    "\n",
    "1. Request id  - int to object\n",
    "2. Driver id - float to object\n",
    "3. Request timestamp - object to datetime\n",
    "4. Drop Timestamp - object to datatime"
   ]
  },
  {
   "cell_type": "code",
   "execution_count": 60,
   "metadata": {
    "execution": {
     "iopub.execute_input": "2022-05-03T15:44:56.112455Z",
     "iopub.status.busy": "2022-05-03T15:44:56.112134Z",
     "iopub.status.idle": "2022-05-03T15:44:56.120077Z",
     "shell.execute_reply": "2022-05-03T15:44:56.119284Z",
     "shell.execute_reply.started": "2022-05-03T15:44:56.112421Z"
    }
   },
   "outputs": [
    {
     "data": {
      "text/plain": [
       "Request id             int64\n",
       "Pickup point          object\n",
       "Driver id            float64\n",
       "Status                object\n",
       "Request timestamp     object\n",
       "Drop timestamp        object\n",
       "dtype: object"
      ]
     },
     "execution_count": 60,
     "metadata": {},
     "output_type": "execute_result"
    }
   ],
   "source": [
    "uber.dtypes"
   ]
  },
  {
   "cell_type": "code",
   "execution_count": 61,
   "metadata": {
    "execution": {
     "iopub.execute_input": "2022-05-03T15:44:56.121810Z",
     "iopub.status.busy": "2022-05-03T15:44:56.121536Z",
     "iopub.status.idle": "2022-05-03T15:44:56.142600Z",
     "shell.execute_reply": "2022-05-03T15:44:56.142009Z",
     "shell.execute_reply.started": "2022-05-03T15:44:56.121773Z"
    }
   },
   "outputs": [
    {
     "data": {
      "text/plain": [
       "0     619\n",
       "1     867\n",
       "2    1807\n",
       "Name: Request id, dtype: object"
      ]
     },
     "execution_count": 61,
     "metadata": {},
     "output_type": "execute_result"
    }
   ],
   "source": [
    "# converting the request id from integer to object, since no numerical caluculations are expected out of this column\n",
    "\n",
    "uber['Request id'] = uber['Request id'].astype('str')\n",
    "uber['Request id'].head(3)"
   ]
  },
  {
   "cell_type": "code",
   "execution_count": 62,
   "metadata": {
    "execution": {
     "iopub.execute_input": "2022-05-03T15:44:56.144056Z",
     "iopub.status.busy": "2022-05-03T15:44:56.143523Z",
     "iopub.status.idle": "2022-05-03T15:44:56.190171Z",
     "shell.execute_reply": "2022-05-03T15:44:56.189574Z",
     "shell.execute_reply.started": "2022-05-03T15:44:56.144027Z"
    }
   },
   "outputs": [
    {
     "data": {
      "text/plain": [
       "0    1\n",
       "1    1\n",
       "2    1\n",
       "Name: Driver id, dtype: object"
      ]
     },
     "execution_count": 62,
     "metadata": {},
     "output_type": "execute_result"
    }
   ],
   "source": [
    "# converting the Driver id from float to object, since no numerical caluculations are expected out of this column\n",
    "\n",
    "uber['Driver id'] = uber['Driver id'].apply(lambda x : str(int(x)) if np.isnan(x) == False else np.nan)\n",
    "uber['Driver id'].head(3)"
   ]
  },
  {
   "cell_type": "code",
   "execution_count": 63,
   "metadata": {
    "execution": {
     "iopub.execute_input": "2022-05-03T15:44:56.192144Z",
     "iopub.status.busy": "2022-05-03T15:44:56.191804Z",
     "iopub.status.idle": "2022-05-03T15:44:56.989352Z",
     "shell.execute_reply": "2022-05-03T15:44:56.988412Z",
     "shell.execute_reply.started": "2022-05-03T15:44:56.192116Z"
    }
   },
   "outputs": [
    {
     "data": {
      "text/plain": [
       "0   2016-07-11 11:51:00\n",
       "1   2016-07-11 17:57:00\n",
       "2   2016-07-12 09:17:00\n",
       "Name: Request timestamp, dtype: datetime64[ns]"
      ]
     },
     "execution_count": 63,
     "metadata": {},
     "output_type": "execute_result"
    }
   ],
   "source": [
    "# converting the request timestamp from object type to proper timestamp format\n",
    "\n",
    "uber['Request timestamp'] = uber['Request timestamp'].str.replace('/','-')\n",
    "uber['Request timestamp'] = pd.to_datetime(uber['Request timestamp'], dayfirst = True)\n",
    "uber['Request timestamp'].head(3)"
   ]
  },
  {
   "cell_type": "code",
   "execution_count": 64,
   "metadata": {
    "execution": {
     "iopub.execute_input": "2022-05-03T15:44:56.991118Z",
     "iopub.status.busy": "2022-05-03T15:44:56.990854Z",
     "iopub.status.idle": "2022-05-03T15:44:57.302907Z",
     "shell.execute_reply": "2022-05-03T15:44:57.302187Z",
     "shell.execute_reply.started": "2022-05-03T15:44:56.991087Z"
    }
   },
   "outputs": [
    {
     "data": {
      "text/plain": [
       "0   2016-07-11 13:00:00\n",
       "1   2016-07-11 18:47:00\n",
       "2   2016-07-12 09:58:00\n",
       "Name: Drop timestamp, dtype: datetime64[ns]"
      ]
     },
     "execution_count": 64,
     "metadata": {},
     "output_type": "execute_result"
    }
   ],
   "source": [
    "# converting the Drop timestamp from object type to proper timestamp format\n",
    "uber['Drop timestamp'] = uber['Drop timestamp'].str.replace('/','-')\n",
    "uber['Drop timestamp'] = pd.to_datetime(uber['Drop timestamp'], dayfirst = True)\n",
    "uber['Drop timestamp'].head(3)"
   ]
  },
  {
   "cell_type": "code",
   "execution_count": 65,
   "metadata": {
    "execution": {
     "iopub.execute_input": "2022-05-03T15:44:57.304588Z",
     "iopub.status.busy": "2022-05-03T15:44:57.304198Z",
     "iopub.status.idle": "2022-05-03T15:44:57.315461Z",
     "shell.execute_reply": "2022-05-03T15:44:57.314595Z",
     "shell.execute_reply.started": "2022-05-03T15:44:57.304556Z"
    }
   },
   "outputs": [
    {
     "name": "stdout",
     "output_type": "stream",
     "text": [
      "unique years involved :  [2016]\n",
      "unique months involved :  [7]\n",
      "unique days involved :  [11, 12, 13, 14, 15]\n"
     ]
    }
   ],
   "source": [
    "# lets check the timestamp conversion \n",
    "print('unique years involved : ',uber['Request timestamp'].dt.year.unique().tolist())\n",
    "print('unique months involved : ',uber['Request timestamp'].dt.month.unique().tolist())\n",
    "print('unique days involved : ',uber['Request timestamp'].dt.day.unique().tolist())"
   ]
  },
  {
   "cell_type": "markdown",
   "metadata": {},
   "source": [
    "**Inference from request timestamp :**\n",
    "\n",
    "The given data is ranging over 11th July to 15th July in the year of 2016"
   ]
  },
  {
   "cell_type": "code",
   "execution_count": 66,
   "metadata": {
    "execution": {
     "iopub.execute_input": "2022-05-03T15:44:57.317236Z",
     "iopub.status.busy": "2022-05-03T15:44:57.316874Z",
     "iopub.status.idle": "2022-05-03T15:44:57.325180Z",
     "shell.execute_reply": "2022-05-03T15:44:57.324457Z",
     "shell.execute_reply.started": "2022-05-03T15:44:57.317205Z"
    }
   },
   "outputs": [
    {
     "data": {
      "text/plain": [
       "Request id                   object\n",
       "Pickup point                 object\n",
       "Driver id                    object\n",
       "Status                       object\n",
       "Request timestamp    datetime64[ns]\n",
       "Drop timestamp       datetime64[ns]\n",
       "dtype: object"
      ]
     },
     "execution_count": 66,
     "metadata": {},
     "output_type": "execute_result"
    }
   ],
   "source": [
    "uber.dtypes # checkig the datatypes of all the columns again"
   ]
  },
  {
   "cell_type": "markdown",
   "metadata": {},
   "source": [
    "**Lets extract the required addional columns from the existing dataframe**\n",
    "\n",
    "We will extract the following information from the existing dataframe\n",
    "\n",
    "1. Request Day\n",
    "2. Request Hour"
   ]
  },
  {
   "cell_type": "code",
   "execution_count": 67,
   "metadata": {
    "execution": {
     "iopub.execute_input": "2022-05-03T15:44:57.327413Z",
     "iopub.status.busy": "2022-05-03T15:44:57.326910Z",
     "iopub.status.idle": "2022-05-03T15:44:57.343575Z",
     "shell.execute_reply": "2022-05-03T15:44:57.342363Z",
     "shell.execute_reply.started": "2022-05-03T15:44:57.327369Z"
    }
   },
   "outputs": [
    {
     "data": {
      "text/plain": [
       "15    1381\n",
       "11    1367\n",
       "14    1353\n",
       "13    1337\n",
       "12    1307\n",
       "Name: req_day, dtype: int64"
      ]
     },
     "execution_count": 67,
     "metadata": {},
     "output_type": "execute_result"
    }
   ],
   "source": [
    "# Extracting the day from the request timestamp\n",
    "\n",
    "uber['req_day'] = uber['Request timestamp'].dt.day.astype(int)\n",
    "uber['req_day'].value_counts()"
   ]
  },
  {
   "cell_type": "code",
   "execution_count": 68,
   "metadata": {
    "execution": {
     "iopub.execute_input": "2022-05-03T15:44:57.346797Z",
     "iopub.status.busy": "2022-05-03T15:44:57.346385Z",
     "iopub.status.idle": "2022-05-03T15:44:57.357450Z",
     "shell.execute_reply": "2022-05-03T15:44:57.356390Z",
     "shell.execute_reply.started": "2022-05-03T15:44:57.346762Z"
    }
   },
   "outputs": [
    {
     "data": {
      "text/plain": [
       "18    510\n",
       "20    492\n",
       "19    473\n",
       "21    449\n",
       "5     445\n",
       "9     431\n",
       "8     423\n",
       "17    418\n",
       "7     406\n",
       "6     398\n",
       "22    304\n",
       "10    243\n",
       "4     203\n",
       "23    194\n",
       "12    184\n",
       "11    171\n",
       "15    171\n",
       "13    160\n",
       "16    159\n",
       "14    136\n",
       "2      99\n",
       "0      99\n",
       "3      92\n",
       "1      85\n",
       "Name: req_hour, dtype: int64"
      ]
     },
     "execution_count": 68,
     "metadata": {},
     "output_type": "execute_result"
    }
   ],
   "source": [
    "# Extracting the hour from the request timestamp\n",
    "\n",
    "uber['req_hour'] = uber['Request timestamp'].dt.hour.astype(int)\n",
    "uber['req_hour'].value_counts()"
   ]
  },
  {
   "cell_type": "code",
   "execution_count": 69,
   "metadata": {
    "execution": {
     "iopub.execute_input": "2022-05-03T15:44:57.360258Z",
     "iopub.status.busy": "2022-05-03T15:44:57.359349Z",
     "iopub.status.idle": "2022-05-03T15:44:57.377740Z",
     "shell.execute_reply": "2022-05-03T15:44:57.376960Z",
     "shell.execute_reply.started": "2022-05-03T15:44:57.360217Z"
    }
   },
   "outputs": [
    {
     "data": {
      "text/html": [
       "<div>\n",
       "<style scoped>\n",
       "    .dataframe tbody tr th:only-of-type {\n",
       "        vertical-align: middle;\n",
       "    }\n",
       "\n",
       "    .dataframe tbody tr th {\n",
       "        vertical-align: top;\n",
       "    }\n",
       "\n",
       "    .dataframe thead th {\n",
       "        text-align: right;\n",
       "    }\n",
       "</style>\n",
       "<table border=\"1\" class=\"dataframe\">\n",
       "  <thead>\n",
       "    <tr style=\"text-align: right;\">\n",
       "      <th></th>\n",
       "      <th>Request id</th>\n",
       "      <th>Pickup point</th>\n",
       "      <th>Driver id</th>\n",
       "      <th>Status</th>\n",
       "      <th>Request timestamp</th>\n",
       "      <th>Drop timestamp</th>\n",
       "      <th>req_day</th>\n",
       "      <th>req_hour</th>\n",
       "    </tr>\n",
       "  </thead>\n",
       "  <tbody>\n",
       "    <tr>\n",
       "      <th>0</th>\n",
       "      <td>619</td>\n",
       "      <td>Airport</td>\n",
       "      <td>1</td>\n",
       "      <td>Trip Completed</td>\n",
       "      <td>2016-07-11 11:51:00</td>\n",
       "      <td>2016-07-11 13:00:00</td>\n",
       "      <td>11</td>\n",
       "      <td>11</td>\n",
       "    </tr>\n",
       "    <tr>\n",
       "      <th>1</th>\n",
       "      <td>867</td>\n",
       "      <td>Airport</td>\n",
       "      <td>1</td>\n",
       "      <td>Trip Completed</td>\n",
       "      <td>2016-07-11 17:57:00</td>\n",
       "      <td>2016-07-11 18:47:00</td>\n",
       "      <td>11</td>\n",
       "      <td>17</td>\n",
       "    </tr>\n",
       "    <tr>\n",
       "      <th>2</th>\n",
       "      <td>1807</td>\n",
       "      <td>City</td>\n",
       "      <td>1</td>\n",
       "      <td>Trip Completed</td>\n",
       "      <td>2016-07-12 09:17:00</td>\n",
       "      <td>2016-07-12 09:58:00</td>\n",
       "      <td>12</td>\n",
       "      <td>9</td>\n",
       "    </tr>\n",
       "    <tr>\n",
       "      <th>3</th>\n",
       "      <td>2532</td>\n",
       "      <td>Airport</td>\n",
       "      <td>1</td>\n",
       "      <td>Trip Completed</td>\n",
       "      <td>2016-07-12 21:08:00</td>\n",
       "      <td>2016-07-12 22:03:00</td>\n",
       "      <td>12</td>\n",
       "      <td>21</td>\n",
       "    </tr>\n",
       "    <tr>\n",
       "      <th>4</th>\n",
       "      <td>3112</td>\n",
       "      <td>City</td>\n",
       "      <td>1</td>\n",
       "      <td>Trip Completed</td>\n",
       "      <td>2016-07-13 08:33:16</td>\n",
       "      <td>2016-07-13 09:25:47</td>\n",
       "      <td>13</td>\n",
       "      <td>8</td>\n",
       "    </tr>\n",
       "  </tbody>\n",
       "</table>\n",
       "</div>"
      ],
      "text/plain": [
       "  Request id Pickup point Driver id          Status   Request timestamp  \\\n",
       "0        619      Airport         1  Trip Completed 2016-07-11 11:51:00   \n",
       "1        867      Airport         1  Trip Completed 2016-07-11 17:57:00   \n",
       "2       1807         City         1  Trip Completed 2016-07-12 09:17:00   \n",
       "3       2532      Airport         1  Trip Completed 2016-07-12 21:08:00   \n",
       "4       3112         City         1  Trip Completed 2016-07-13 08:33:16   \n",
       "\n",
       "       Drop timestamp  req_day  req_hour  \n",
       "0 2016-07-11 13:00:00       11        11  \n",
       "1 2016-07-11 18:47:00       11        17  \n",
       "2 2016-07-12 09:58:00       12         9  \n",
       "3 2016-07-12 22:03:00       12        21  \n",
       "4 2016-07-13 09:25:47       13         8  "
      ]
     },
     "execution_count": 69,
     "metadata": {},
     "output_type": "execute_result"
    }
   ],
   "source": [
    "uber.head() # lets have a look at the dataframe now"
   ]
  },
  {
   "cell_type": "markdown",
   "metadata": {},
   "source": [
    "**Lets undestand the trend of the status with respect to the hours of the day**"
   ]
  },
  {
   "cell_type": "code",
   "execution_count": 70,
   "metadata": {
    "execution": {
     "iopub.execute_input": "2022-05-03T15:44:57.380803Z",
     "iopub.status.busy": "2022-05-03T15:44:57.379878Z",
     "iopub.status.idle": "2022-05-03T15:44:57.386085Z",
     "shell.execute_reply": "2022-05-03T15:44:57.385424Z",
     "shell.execute_reply.started": "2022-05-03T15:44:57.380756Z"
    }
   },
   "outputs": [
    {
     "data": {
      "text/plain": [
       "<Figure size 720x288 with 0 Axes>"
      ]
     },
     "metadata": {},
     "output_type": "display_data"
    },
    {
     "data": {
      "image/png": "[encoded data removed]",
      "text/plain": [
       "<Figure size 483.5x1800 with 5 Axes>"
      ]
     },
     "metadata": {
      "needs_background": "light"
     },
     "output_type": "display_data"
    }
   ],
   "source": [
    "# lets plot in the factor plot with heue = 'Status' so that we can underand the trend with respct to the day also\n",
    "\n",
    "plt.figure(figsize = [10,4])\n",
    "sns.factorplot(data = uber, x = 'req_hour',y = 'req_day', kind = 'bar', row = 'req_day', estimator = np.size, hue = 'Status')\n",
    "plt.show()"
   ]
  },
  {
   "cell_type": "code",
   "execution_count": 71,
   "metadata": {
    "execution": {
     "iopub.execute_input": "2022-05-03T15:44:57.387937Z",
     "iopub.status.busy": "2022-05-03T15:44:57.387458Z",
     "iopub.status.idle": "2022-05-03T15:44:57.396622Z",
     "shell.execute_reply": "2022-05-03T15:44:57.396050Z",
     "shell.execute_reply.started": "2022-05-03T15:44:57.387895Z"
    }
   },
   "outputs": [
    {
     "data": {
      "text/plain": [
       "<Figure size 720x288 with 0 Axes>"
      ]
     },
     "metadata": {},
     "output_type": "display_data"
    },
    {
     "data": {
      "image/png": "[encoded data removed]",
      "text/plain": [
       "<Figure size 430.125x1800 with 5 Axes>"
      ]
     },
     "metadata": {
      "needs_background": "light"
     },
     "output_type": "display_data"
    }
   ],
   "source": [
    "# lets plot in the factor plot with hue = 'Pickup Point' so that we can underand the trend with respct to day\n",
    "\n",
    "plt.figure(figsize = [10,4])\n",
    "sns.factorplot(data = uber, x = 'req_hour',y = 'req_day', kind = 'bar', row = 'req_day', estimator = np.size, hue = 'Pickup point')\n",
    "plt.show()"
   ]
  },
  {
   "cell_type": "markdown",
   "metadata": {},
   "source": [
    "**Lets aggregate the counts of the total request made in each hour of the day at different pickup points**"
   ]
  },
  {
   "cell_type": "code",
   "execution_count": 72,
   "metadata": {
    "execution": {
     "iopub.execute_input": "2022-05-03T15:45:02.716911Z",
     "iopub.status.busy": "2022-05-03T15:45:02.716561Z",
     "iopub.status.idle": "2022-05-03T15:45:03.173620Z",
     "shell.execute_reply": "2022-05-03T15:45:03.172539Z",
     "shell.execute_reply.started": "2022-05-03T15:45:02.716876Z"
    }
   },
   "outputs": [
    {
     "data": {
      "image/png": "[encoded data removed]",
      "text/plain": [
       "<Figure size 1008x432 with 1 Axes>"
      ]
     },
     "metadata": {
      "needs_background": "light"
     },
     "output_type": "display_data"
    }
   ],
   "source": [
    "plt.figure(figsize = [14,6])\n",
    "plt.title('\\nRequests Count in Hours - by Pickup points\\n', color = 'red') # modifying the title of the plot\n",
    "\n",
    "sns.countplot(data = uber, x = 'req_hour', hue = 'Pickup point') # plotting the count plot with seaborn\n",
    "\n",
    "plt.xlabel('\\nRequest Hours\\n') # modifing the xlabel of the plot\n",
    "plt.ylabel('\\nCount\\n') # modifiying the ylabel of the plot\n",
    "\n",
    "plt.show()"
   ]
  },
  {
   "cell_type": "markdown",
   "metadata": {},
   "source": [
    "**Inference :**\n",
    "\n",
    "1. City receives the high numbers of request between 5.00 Hrs and 10.00 Hrs of the Day ( Approx. 300 request / hour ) \n",
    "2. Airport gets high number request between 17.00 Hrs and 22.00 Hrs ( Approx 350 request / hour )"
   ]
  },
  {
   "cell_type": "markdown",
   "metadata": {},
   "source": [
    "**Inorder to have better understanding of diffrent phases of the day, lets bin the 'req_hours' column into different time slots**\n",
    "\n",
    "1. Pre_Morning - Before 5.00 Hrs\n",
    "2. Morning_Rush - From 5.00 Hrs to 10.00 Hrs\n",
    "3. Day_Time - From 10.00 Hrs to 17.00 Hrs\n",
    "4. Evening_Rush From 17.00 Hrs to 22.00 Hrs\n",
    "5. Late_Night - From 22.00 Hrs to 0.00 Hrs"
   ]
  },
  {
   "cell_type": "code",
   "execution_count": 73,
   "metadata": {
    "execution": {
     "iopub.execute_input": "2022-05-03T15:46:04.707303Z",
     "iopub.status.busy": "2022-05-03T15:46:04.706010Z",
     "iopub.status.idle": "2022-05-03T15:46:04.714181Z",
     "shell.execute_reply": "2022-05-03T15:46:04.713056Z",
     "shell.execute_reply.started": "2022-05-03T15:46:04.707240Z"
    }
   },
   "outputs": [],
   "source": [
    "# lets define a function for binning the time slots\n",
    "\n",
    "def timeslot_func(x):\n",
    "    \n",
    "    if x < 5 :\n",
    "        return ('Pre_Morning')\n",
    "    elif x < 10:\n",
    "        return ('Morning_Rush')\n",
    "    elif x < 17:\n",
    "        return ('Day_Time')\n",
    "    elif x < 22 :\n",
    "        return ('Evening_Rush')\n",
    "    else :\n",
    "        return ('Late_Night')"
   ]
  },
  {
   "cell_type": "code",
   "execution_count": 74,
   "metadata": {
    "execution": {
     "iopub.execute_input": "2022-05-03T15:46:27.205463Z",
     "iopub.status.busy": "2022-05-03T15:46:27.204867Z",
     "iopub.status.idle": "2022-05-03T15:46:27.228097Z",
     "shell.execute_reply": "2022-05-03T15:46:27.226772Z",
     "shell.execute_reply.started": "2022-05-03T15:46:27.205409Z"
    }
   },
   "outputs": [
    {
     "data": {
      "text/plain": [
       "Evening_Rush    2342\n",
       "Morning_Rush    2103\n",
       "Day_Time        1224\n",
       "Pre_Morning      578\n",
       "Late_Night       498\n",
       "Name: timeslot, dtype: int64"
      ]
     },
     "execution_count": 74,
     "metadata": {},
     "output_type": "execute_result"
    }
   ],
   "source": [
    "# applying the timeslot_func function to the req_hour variable for creating a new column in the dataframe ('timeslot')\n",
    "\n",
    "uber['timeslot'] = uber['req_hour'].apply(lambda x : timeslot_func(x)) # applying the user defined function for binning\n",
    "uber['timeslot'].value_counts()"
   ]
  },
  {
   "cell_type": "code",
   "execution_count": 75,
   "metadata": {
    "execution": {
     "iopub.execute_input": "2022-05-03T15:47:45.491935Z",
     "iopub.status.busy": "2022-05-03T15:47:45.490878Z",
     "iopub.status.idle": "2022-05-03T15:47:45.510019Z",
     "shell.execute_reply": "2022-05-03T15:47:45.509168Z",
     "shell.execute_reply.started": "2022-05-03T15:47:45.491889Z"
    }
   },
   "outputs": [
    {
     "data": {
      "text/html": [
       "<div>\n",
       "<style scoped>\n",
       "    .dataframe tbody tr th:only-of-type {\n",
       "        vertical-align: middle;\n",
       "    }\n",
       "\n",
       "    .dataframe tbody tr th {\n",
       "        vertical-align: top;\n",
       "    }\n",
       "\n",
       "    .dataframe thead th {\n",
       "        text-align: right;\n",
       "    }\n",
       "</style>\n",
       "<table border=\"1\" class=\"dataframe\">\n",
       "  <thead>\n",
       "    <tr style=\"text-align: right;\">\n",
       "      <th></th>\n",
       "      <th>TimeSlots</th>\n",
       "      <th># Requests</th>\n",
       "      <th>% Distribution</th>\n",
       "    </tr>\n",
       "  </thead>\n",
       "  <tbody>\n",
       "    <tr>\n",
       "      <th>0</th>\n",
       "      <td>Evening_Rush</td>\n",
       "      <td>2342</td>\n",
       "      <td>34.72</td>\n",
       "    </tr>\n",
       "    <tr>\n",
       "      <th>1</th>\n",
       "      <td>Morning_Rush</td>\n",
       "      <td>2103</td>\n",
       "      <td>31.18</td>\n",
       "    </tr>\n",
       "    <tr>\n",
       "      <th>2</th>\n",
       "      <td>Day_Time</td>\n",
       "      <td>1224</td>\n",
       "      <td>18.15</td>\n",
       "    </tr>\n",
       "    <tr>\n",
       "      <th>3</th>\n",
       "      <td>Pre_Morning</td>\n",
       "      <td>578</td>\n",
       "      <td>8.57</td>\n",
       "    </tr>\n",
       "    <tr>\n",
       "      <th>4</th>\n",
       "      <td>Late_Night</td>\n",
       "      <td>498</td>\n",
       "      <td>7.38</td>\n",
       "    </tr>\n",
       "  </tbody>\n",
       "</table>\n",
       "</div>"
      ],
      "text/plain": [
       "      TimeSlots  # Requests  % Distribution\n",
       "0  Evening_Rush        2342           34.72\n",
       "1  Morning_Rush        2103           31.18\n",
       "2      Day_Time        1224           18.15\n",
       "3   Pre_Morning         578            8.57\n",
       "4    Late_Night         498            7.38"
      ]
     },
     "execution_count": 75,
     "metadata": {},
     "output_type": "execute_result"
    }
   ],
   "source": [
    "# lets look at the count and distribution of the 'time slot' variable and print it in a dataframe format\n",
    "\n",
    "a = uber['timeslot'].value_counts(normalize = True).index\n",
    "b = uber['timeslot'].value_counts().values\n",
    "c = uber['timeslot'].value_counts(normalize = True).values.round(4)*100\n",
    "pd.DataFrame({'TimeSlots':a,'# Requests':b,'% Distribution':c})"
   ]
  },
  {
   "cell_type": "markdown",
   "metadata": {},
   "source": [
    "**Inference**\n",
    "\n",
    "1. Almost 65% of the request are coming in, during Evening_Rush and Morning_Rush Time Slots put together"
   ]
  },
  {
   "cell_type": "markdown",
   "metadata": {},
   "source": [
    "**Let us plot the count of the timeslots with respect to the status : - inorder to get to a deaper undrestanding of the problem**"
   ]
  },
  {
   "cell_type": "code",
   "execution_count": 76,
   "metadata": {
    "execution": {
     "iopub.execute_input": "2022-05-03T15:48:29.808793Z",
     "iopub.status.busy": "2022-05-03T15:48:29.807692Z",
     "iopub.status.idle": "2022-05-03T15:48:30.114124Z",
     "shell.execute_reply": "2022-05-03T15:48:30.113156Z",
     "shell.execute_reply.started": "2022-05-03T15:48:29.808745Z"
    }
   },
   "outputs": [
    {
     "data": {
      "image/png": "[encoded data removed]",
      "text/plain": [
       "<Figure size 720x432 with 1 Axes>"
      ]
     },
     "metadata": {
      "needs_background": "light"
     },
     "output_type": "display_data"
    }
   ],
   "source": [
    "plt.figure(figsize = [10,6])\n",
    "plt.title('\\nCount of Request in each TimeSlots by Status\\n')\n",
    "\n",
    "sns.countplot(data = uber, x = 'timeslot', hue = 'Status') # ploting the count plot using the seaborn library\n",
    "\n",
    "plt.xlabel('\\nTimeSlots\\n')\n",
    "plt.ylabel('\\nCount of Requests\\n')\n",
    "plt.show()"
   ]
  },
  {
   "cell_type": "markdown",
   "metadata": {},
   "source": [
    "**Inference :**\n",
    "\n",
    "1. The Cancellations are very high during the Morning Rush Time Slot\n",
    "2. The number of cancellations is as equal as the number of trips completed during the morning rush \n",
    "3. The availability of cars is a concern during the Evening rush - almost twice of the request are left unattended to the number of completed requests\n"
   ]
  },
  {
   "cell_type": "markdown",
   "metadata": {},
   "source": [
    "**Lets analyis the supply-demand during the Morning-Rush hours with respect to the pick up points**"
   ]
  },
  {
   "cell_type": "code",
   "execution_count": 77,
   "metadata": {
    "execution": {
     "iopub.execute_input": "2022-05-03T15:52:55.338266Z",
     "iopub.status.busy": "2022-05-03T15:52:55.337857Z",
     "iopub.status.idle": "2022-05-03T15:52:55.347640Z",
     "shell.execute_reply": "2022-05-03T15:52:55.346157Z",
     "shell.execute_reply.started": "2022-05-03T15:52:55.338229Z"
    }
   },
   "outputs": [],
   "source": [
    "plot_data = uber[uber['timeslot'] == 'Morning_Rush'] # subsetting the dataframe for the morning_Rush alone"
   ]
  },
  {
   "cell_type": "code",
   "execution_count": 78,
   "metadata": {
    "execution": {
     "iopub.execute_input": "2022-05-03T15:53:43.078957Z",
     "iopub.status.busy": "2022-05-03T15:53:43.078540Z",
     "iopub.status.idle": "2022-05-03T15:53:43.099357Z",
     "shell.execute_reply": "2022-05-03T15:53:43.098121Z",
     "shell.execute_reply.started": "2022-05-03T15:53:43.078920Z"
    }
   },
   "outputs": [
    {
     "data": {
      "text/html": [
       "<div>\n",
       "<style scoped>\n",
       "    .dataframe tbody tr th:only-of-type {\n",
       "        vertical-align: middle;\n",
       "    }\n",
       "\n",
       "    .dataframe tbody tr th {\n",
       "        vertical-align: top;\n",
       "    }\n",
       "\n",
       "    .dataframe thead th {\n",
       "        text-align: right;\n",
       "    }\n",
       "</style>\n",
       "<table border=\"1\" class=\"dataframe\">\n",
       "  <thead>\n",
       "    <tr style=\"text-align: right;\">\n",
       "      <th></th>\n",
       "      <th>Pickup Point</th>\n",
       "      <th># Requests</th>\n",
       "      <th>% Distribution</th>\n",
       "    </tr>\n",
       "  </thead>\n",
       "  <tbody>\n",
       "    <tr>\n",
       "      <th>0</th>\n",
       "      <td>City</td>\n",
       "      <td>1677</td>\n",
       "      <td>79.74</td>\n",
       "    </tr>\n",
       "    <tr>\n",
       "      <th>1</th>\n",
       "      <td>Airport</td>\n",
       "      <td>426</td>\n",
       "      <td>20.26</td>\n",
       "    </tr>\n",
       "  </tbody>\n",
       "</table>\n",
       "</div>"
      ],
      "text/plain": [
       "  Pickup Point  # Requests  % Distribution\n",
       "0         City        1677           79.74\n",
       "1      Airport         426           20.26"
      ]
     },
     "execution_count": 78,
     "metadata": {},
     "output_type": "execute_result"
    }
   ],
   "source": [
    "# lets look at the count and distribution of the 'pickup point' variable and print it in a dataframe format for the given condition\n",
    "\n",
    "a = plot_data['Pickup point'].value_counts().index\n",
    "b = plot_data['Pickup point'].value_counts().values\n",
    "c = plot_data['Pickup point'].value_counts(normalize = True).values.round(4)*100\n",
    "pd.DataFrame({'Pickup Point':a,'# Requests':b,'% Distribution':c})"
   ]
  },
  {
   "cell_type": "markdown",
   "metadata": {},
   "source": [
    "**Inference**\n",
    "\n",
    "1. Near to 80 % of the request made during the Morning_Rush is happening at the City alone"
   ]
  },
  {
   "cell_type": "code",
   "execution_count": 79,
   "metadata": {
    "execution": {
     "iopub.execute_input": "2022-05-03T15:54:59.727555Z",
     "iopub.status.busy": "2022-05-03T15:54:59.727221Z",
     "iopub.status.idle": "2022-05-03T15:55:00.004189Z",
     "shell.execute_reply": "2022-05-03T15:55:00.003185Z",
     "shell.execute_reply.started": "2022-05-03T15:54:59.727516Z"
    }
   },
   "outputs": [
    {
     "data": {
      "image/png": "[encoded data removed]",
      "text/plain": [
       "<Figure size 720x432 with 1 Axes>"
      ]
     },
     "metadata": {
      "needs_background": "light"
     },
     "output_type": "display_data"
    }
   ],
   "source": [
    "## Lets plot the count request for of pickup points by status with timeslot = 'Morning_Rush'\n",
    "\n",
    "plt.figure(figsize = [10,6])\n",
    "plt.title('\\nCount of Requests in - Pickup Locations - by Status - During Moring Rush\\n')\n",
    "\n",
    "sns.countplot(data = plot_data, x = 'Pickup point', hue = 'Status') # ploting the coutplot using the seaborn library\n",
    "\n",
    "plt.xlabel('\\nPickup Point\\n')\n",
    "plt.ylabel('\\nCount of Requests\\n')\n",
    "plt.show()"
   ]
  },
  {
   "cell_type": "markdown",
   "metadata": {},
   "source": [
    "**Inferences :**\n",
    "\n",
    "1. The number of cancellations is relatively very high in the morning rush from the City\n",
    "2. The car unavailability is also a concern , which is near to the number trips completed during the morning rush"
   ]
  },
  {
   "cell_type": "markdown",
   "metadata": {},
   "source": [
    "**Lets look at the numbers of cancelled trips from City during the morning hours**"
   ]
  },
  {
   "cell_type": "code",
   "execution_count": 80,
   "metadata": {
    "execution": {
     "iopub.execute_input": "2022-05-03T15:57:09.367176Z",
     "iopub.status.busy": "2022-05-03T15:57:09.366845Z",
     "iopub.status.idle": "2022-05-03T15:57:09.381924Z",
     "shell.execute_reply": "2022-05-03T15:57:09.380751Z",
     "shell.execute_reply.started": "2022-05-03T15:57:09.367146Z"
    }
   },
   "outputs": [
    {
     "name": "stdout",
     "output_type": "stream",
     "text": [
      "\n",
      "Number of cancelled trips from city during the morning rush : 820\n"
     ]
    }
   ],
   "source": [
    "filter_bool_series = (uber['timeslot'] == 'Morning_Rush') & (uber['Status'] == 'Cancelled') & (uber['Pickup point'] == 'City') # creating the filter series\n",
    "\n",
    "num = filter_bool_series.sum() # summing up boolean series which will be eqaul to the length the filtered dataframe based on the above conditions\n",
    "\n",
    "print('\\nNumber of cancelled trips from city during the morning rush :', num) # printing the number"
   ]
  },
  {
   "cell_type": "markdown",
   "metadata": {},
   "source": [
    "**Lets look at the numbers of supply met the demand during the Morning_Rush hours from city**"
   ]
  },
  {
   "cell_type": "code",
   "execution_count": 81,
   "metadata": {
    "execution": {
     "iopub.execute_input": "2022-05-03T15:57:30.991762Z",
     "iopub.status.busy": "2022-05-03T15:57:30.991417Z",
     "iopub.status.idle": "2022-05-03T15:57:31.005127Z",
     "shell.execute_reply": "2022-05-03T15:57:31.003889Z",
     "shell.execute_reply.started": "2022-05-03T15:57:30.991727Z"
    }
   },
   "outputs": [
    {
     "name": "stdout",
     "output_type": "stream",
     "text": [
      "\n",
      "Number of Completed trips from city during the morning rush : 472\n"
     ]
    }
   ],
   "source": [
    "filter_bool_series = (uber['timeslot'] == 'Morning_Rush') & (uber['Status'] == 'Trip Completed') & (uber['Pickup point'] == 'City') # creating the filter series\n",
    "\n",
    "num = filter_bool_series.sum() # summing up boolean series which will be eqaul to the length the filtered dataframe based on the above conditions\n",
    "\n",
    "print('\\nNumber of Completed trips from city during the morning rush :', num) # printing the number"
   ]
  },
  {
   "cell_type": "markdown",
   "metadata": {},
   "source": [
    "**Lets look at the counts by the status - during the Morning_Rush hours with pickup point == 'City'**"
   ]
  },
  {
   "cell_type": "code",
   "execution_count": 82,
   "metadata": {
    "execution": {
     "iopub.execute_input": "2022-05-03T15:57:39.078858Z",
     "iopub.status.busy": "2022-05-03T15:57:39.078493Z",
     "iopub.status.idle": "2022-05-03T15:57:39.088964Z",
     "shell.execute_reply": "2022-05-03T15:57:39.088010Z",
     "shell.execute_reply.started": "2022-05-03T15:57:39.078822Z"
    }
   },
   "outputs": [
    {
     "name": "stdout",
     "output_type": "stream",
     "text": [
      "The total number of request made during the Morning_Rush in the City :  1677\n"
     ]
    }
   ],
   "source": [
    "## Total request made in City during the Morning_Rush\n",
    "\n",
    "filter_bool_series = ((uber['timeslot'] == 'Morning_Rush') & (uber['Pickup point'] == 'City'))\n",
    "num = filter_bool_series.sum()\n",
    "print('The total number of request made during the Morning_Rush in the City : ',num)"
   ]
  },
  {
   "cell_type": "code",
   "execution_count": 83,
   "metadata": {
    "execution": {
     "iopub.execute_input": "2022-05-03T15:57:47.475847Z",
     "iopub.status.busy": "2022-05-03T15:57:47.474726Z",
     "iopub.status.idle": "2022-05-03T15:57:47.491028Z",
     "shell.execute_reply": "2022-05-03T15:57:47.489885Z",
     "shell.execute_reply.started": "2022-05-03T15:57:47.475775Z"
    }
   },
   "outputs": [
    {
     "data": {
      "text/plain": [
       "Cancelled            820\n",
       "Trip Completed       472\n",
       "No Cars Available    385\n",
       "Name: Status, dtype: int64"
      ]
     },
     "execution_count": 83,
     "metadata": {},
     "output_type": "execute_result"
    }
   ],
   "source": [
    "# Count of status aginst request with pick up point = 'City' & Time Slot = 'Morning_Rush'\n",
    "\n",
    "uber_morn_city = uber[(uber['timeslot'] == 'Morning_Rush') & (uber['Pickup point'] == 'City')]\n",
    "uber_morn_city['Status'].value_counts()"
   ]
  },
  {
   "cell_type": "code",
   "execution_count": 84,
   "metadata": {
    "execution": {
     "iopub.execute_input": "2022-05-03T15:58:52.619173Z",
     "iopub.status.busy": "2022-05-03T15:58:52.618858Z",
     "iopub.status.idle": "2022-05-03T15:58:52.642912Z",
     "shell.execute_reply": "2022-05-03T15:58:52.641298Z",
     "shell.execute_reply.started": "2022-05-03T15:58:52.619143Z"
    }
   },
   "outputs": [
    {
     "data": {
      "text/html": [
       "<div>\n",
       "<style scoped>\n",
       "    .dataframe tbody tr th:only-of-type {\n",
       "        vertical-align: middle;\n",
       "    }\n",
       "\n",
       "    .dataframe tbody tr th {\n",
       "        vertical-align: top;\n",
       "    }\n",
       "\n",
       "    .dataframe thead th {\n",
       "        text-align: right;\n",
       "    }\n",
       "</style>\n",
       "<table border=\"1\" class=\"dataframe\">\n",
       "  <thead>\n",
       "    <tr style=\"text-align: right;\">\n",
       "      <th></th>\n",
       "      <th>Status</th>\n",
       "      <th>Count</th>\n",
       "      <th>% Distribution</th>\n",
       "    </tr>\n",
       "  </thead>\n",
       "  <tbody>\n",
       "    <tr>\n",
       "      <th>0</th>\n",
       "      <td>Cancelled</td>\n",
       "      <td>820</td>\n",
       "      <td>48.90</td>\n",
       "    </tr>\n",
       "    <tr>\n",
       "      <th>1</th>\n",
       "      <td>Trip Completed</td>\n",
       "      <td>472</td>\n",
       "      <td>28.15</td>\n",
       "    </tr>\n",
       "    <tr>\n",
       "      <th>2</th>\n",
       "      <td>No Cars Available</td>\n",
       "      <td>385</td>\n",
       "      <td>22.96</td>\n",
       "    </tr>\n",
       "  </tbody>\n",
       "</table>\n",
       "</div>"
      ],
      "text/plain": [
       "              Status  Count  % Distribution\n",
       "0          Cancelled    820           48.90\n",
       "1     Trip Completed    472           28.15\n",
       "2  No Cars Available    385           22.96"
      ]
     },
     "execution_count": 84,
     "metadata": {},
     "output_type": "execute_result"
    }
   ],
   "source": [
    "# lets look at the count and distribution of the 'Status' variable and print it in a dataframe format for the given condition\n",
    "\n",
    "a = uber_morn_city['Status'].value_counts().index\n",
    "b = uber_morn_city['Status'].value_counts().values\n",
    "c = uber_morn_city['Status'].value_counts(normalize = True).values.round(4)*100\n",
    "pd.DataFrame({'Status':a,'Count':b,'% Distribution':c})"
   ]
  },
  {
   "cell_type": "markdown",
   "metadata": {},
   "source": [
    "**Inference**\n",
    "\n",
    "1. Almost 49% of the request are getting cancelled in the morning_Rush from the City"
   ]
  },
  {
   "cell_type": "code",
   "execution_count": 85,
   "metadata": {
    "execution": {
     "iopub.execute_input": "2022-05-03T15:59:47.187476Z",
     "iopub.status.busy": "2022-05-03T15:59:47.187049Z",
     "iopub.status.idle": "2022-05-03T15:59:47.349876Z",
     "shell.execute_reply": "2022-05-03T15:59:47.348746Z",
     "shell.execute_reply.started": "2022-05-03T15:59:47.187439Z"
    }
   },
   "outputs": [
    {
     "data": {
      "image/png": "[encoded data removed]",
      "text/plain": [
       "<Figure size 576x576 with 1 Axes>"
      ]
     },
     "metadata": {},
     "output_type": "display_data"
    }
   ],
   "source": [
    "## Lets plot the distibution of each status values (City, Morning_Rush) in pie plot\n",
    "\n",
    "plt.figure(figsize = [8,8])\n",
    "\n",
    "plot_data = uber_morn_city['Status'].value_counts(normalize = True)\n",
    "\n",
    "plt.pie(plot_data, autopct = '%1.1f%%', shadow = True)\n",
    "\n",
    "plt.show()"
   ]
  },
  {
   "cell_type": "markdown",
   "metadata": {
    "execution": {
     "iopub.execute_input": "2022-05-02T06:01:19.186859Z",
     "iopub.status.busy": "2022-05-02T06:01:19.186532Z",
     "iopub.status.idle": "2022-05-02T06:01:19.193809Z",
     "shell.execute_reply": "2022-05-02T06:01:19.192566Z",
     "shell.execute_reply.started": "2022-05-02T06:01:19.186817Z"
    }
   },
   "source": [
    "**Inference:**\n",
    "\n",
    "1. Almost 49% of the request are getting cancelled in the morning_Rush from the City\n",
    "2. 23% of the request are getting un-attended, due to the non-availability of the cars in the morning hours from the City\n",
    "3. Only 28% of request is able to get through, is a matter of concern - from the city during the morning rush"
   ]
  },
  {
   "cell_type": "markdown",
   "metadata": {},
   "source": [
    "**Lets look at the supply-demand during the Evening-Rush hours with respect to the pick up points**"
   ]
  },
  {
   "cell_type": "code",
   "execution_count": 86,
   "metadata": {
    "execution": {
     "iopub.execute_input": "2022-05-03T16:01:20.522813Z",
     "iopub.status.busy": "2022-05-03T16:01:20.522476Z",
     "iopub.status.idle": "2022-05-03T16:01:20.530361Z",
     "shell.execute_reply": "2022-05-03T16:01:20.529004Z",
     "shell.execute_reply.started": "2022-05-03T16:01:20.522776Z"
    }
   },
   "outputs": [],
   "source": [
    "plot_data = uber[uber['timeslot'] == 'Evening_Rush'] # creating the subset of the dataframe for Timeslot = \"Evening_Rush\""
   ]
  },
  {
   "cell_type": "code",
   "execution_count": 87,
   "metadata": {
    "execution": {
     "iopub.execute_input": "2022-05-03T16:02:14.268615Z",
     "iopub.status.busy": "2022-05-03T16:02:14.267605Z",
     "iopub.status.idle": "2022-05-03T16:02:14.286269Z",
     "shell.execute_reply": "2022-05-03T16:02:14.285545Z",
     "shell.execute_reply.started": "2022-05-03T16:02:14.268555Z"
    }
   },
   "outputs": [
    {
     "data": {
      "text/html": [
       "<div>\n",
       "<style scoped>\n",
       "    .dataframe tbody tr th:only-of-type {\n",
       "        vertical-align: middle;\n",
       "    }\n",
       "\n",
       "    .dataframe tbody tr th {\n",
       "        vertical-align: top;\n",
       "    }\n",
       "\n",
       "    .dataframe thead th {\n",
       "        text-align: right;\n",
       "    }\n",
       "</style>\n",
       "<table border=\"1\" class=\"dataframe\">\n",
       "  <thead>\n",
       "    <tr style=\"text-align: right;\">\n",
       "      <th></th>\n",
       "      <th>Pickup Point</th>\n",
       "      <th>#Requests</th>\n",
       "      <th>% Distribution</th>\n",
       "    </tr>\n",
       "  </thead>\n",
       "  <tbody>\n",
       "    <tr>\n",
       "      <th>0</th>\n",
       "      <td>Airport</td>\n",
       "      <td>1800</td>\n",
       "      <td>76.86</td>\n",
       "    </tr>\n",
       "    <tr>\n",
       "      <th>1</th>\n",
       "      <td>City</td>\n",
       "      <td>542</td>\n",
       "      <td>23.14</td>\n",
       "    </tr>\n",
       "  </tbody>\n",
       "</table>\n",
       "</div>"
      ],
      "text/plain": [
       "  Pickup Point  #Requests  % Distribution\n",
       "0      Airport       1800           76.86\n",
       "1         City        542           23.14"
      ]
     },
     "execution_count": 87,
     "metadata": {},
     "output_type": "execute_result"
    }
   ],
   "source": [
    "# lets look at the count and distribution of the 'Pickup point' variable and print it in a dataframe format for the given condition\n",
    "\n",
    "a = plot_data['Pickup point'].value_counts().index\n",
    "b = plot_data['Pickup point'].value_counts().values\n",
    "c = plot_data['Pickup point'].value_counts(normalize = True).values.round(4)*100\n",
    "pd.DataFrame({'Pickup Point':a,'#Requests':b,'% Distribution':c})"
   ]
  },
  {
   "cell_type": "markdown",
   "metadata": {},
   "source": [
    "**Inference**\n",
    "\n",
    "1. Near to 77 % of the request during the Evening_Rush is happening from the Airport alone.That is a huge demand."
   ]
  },
  {
   "cell_type": "code",
   "execution_count": 88,
   "metadata": {
    "execution": {
     "iopub.execute_input": "2022-05-03T16:03:52.001331Z",
     "iopub.status.busy": "2022-05-03T16:03:52.001010Z",
     "iopub.status.idle": "2022-05-03T16:03:52.249825Z",
     "shell.execute_reply": "2022-05-03T16:03:52.248465Z",
     "shell.execute_reply.started": "2022-05-03T16:03:52.001299Z"
    }
   },
   "outputs": [
    {
     "data": {
      "image/png": "[encoded data removed]",
      "text/plain": [
       "<Figure size 720x432 with 1 Axes>"
      ]
     },
     "metadata": {
      "needs_background": "light"
     },
     "output_type": "display_data"
    }
   ],
   "source": [
    "## Lets plot the count request for of pickup points by status with timeslot = 'Evening_Rush'\n",
    "\n",
    "plt.figure(figsize = [10,6])\n",
    "plt.title('\\nCount of Requests in - Pickup Locations - by Status - During Evening Rush\\n')\n",
    "\n",
    "sns.countplot(data = plot_data, x = 'Pickup point', hue = 'Status') #plotting the countplot using seaborn\n",
    "\n",
    "plt.xlabel('\\nPickup Location\\n')\n",
    "plt.ylabel('\\nCount of Requests\\n')\n",
    "plt.show()"
   ]
  },
  {
   "cell_type": "markdown",
   "metadata": {},
   "source": [
    "**Inferences:**\n",
    "\n",
    "1. During the evening hours the availability of cars at the airport is very less\n",
    "2. The cancellation is relative less in this scenario, as the gap between demand and the supply is very high"
   ]
  },
  {
   "cell_type": "markdown",
   "metadata": {},
   "source": [
    "**Lets look at the numbers of supply-demand during the Evening_Rush at the city**"
   ]
  },
  {
   "cell_type": "code",
   "execution_count": 89,
   "metadata": {
    "execution": {
     "iopub.execute_input": "2022-05-03T16:04:48.999709Z",
     "iopub.status.busy": "2022-05-03T16:04:48.999397Z",
     "iopub.status.idle": "2022-05-03T16:04:49.012481Z",
     "shell.execute_reply": "2022-05-03T16:04:49.011216Z",
     "shell.execute_reply.started": "2022-05-03T16:04:48.999662Z"
    }
   },
   "outputs": [
    {
     "name": "stdout",
     "output_type": "stream",
     "text": [
      "\n",
      "Number of completed trips from city during the Evening rush : 411\n"
     ]
    }
   ],
   "source": [
    "filter_bool_series = (uber['timeslot'] == 'Evening_Rush') & (uber['Status'] == 'Trip Completed') & (uber['Pickup point'] == 'City') # creating the filter series\n",
    "\n",
    "num = filter_bool_series.sum()  # summing up boolean series which will be eqaul to the length the filtered dataframe based on the above conditions\n",
    "\n",
    "print('\\nNumber of completed trips from city during the Evening rush :', num) # printing the number"
   ]
  },
  {
   "cell_type": "markdown",
   "metadata": {},
   "source": [
    "**Lets look at the numbers of supply-demand during the Evening_Rush at the Airport**"
   ]
  },
  {
   "cell_type": "code",
   "execution_count": 90,
   "metadata": {
    "execution": {
     "iopub.execute_input": "2022-05-03T16:05:33.680965Z",
     "iopub.status.busy": "2022-05-03T16:05:33.680142Z",
     "iopub.status.idle": "2022-05-03T16:05:33.693268Z",
     "shell.execute_reply": "2022-05-03T16:05:33.691761Z",
     "shell.execute_reply.started": "2022-05-03T16:05:33.680858Z"
    }
   },
   "outputs": [
    {
     "name": "stdout",
     "output_type": "stream",
     "text": [
      "\n",
      "Number of completed trips from the Airport during the Evening rush : 373\n"
     ]
    }
   ],
   "source": [
    "filter_bool_series = (uber['timeslot'] == 'Evening_Rush') & (uber['Status'] == 'Trip Completed') & (uber['Pickup point'] == 'Airport') # creating the filter series\n",
    "\n",
    "num = filter_bool_series.sum() # summing up boolean series which will be eqaul to the length the filtered dataframe based on the above conditions\n",
    "\n",
    "print('\\nNumber of completed trips from the Airport during the Evening rush :', num) # printing the number"
   ]
  },
  {
   "cell_type": "markdown",
   "metadata": {},
   "source": [
    "**Lets look at the severity of the cars unavalibility of Cars at Airport during the Evening_Rush**"
   ]
  },
  {
   "cell_type": "code",
   "execution_count": 91,
   "metadata": {
    "execution": {
     "iopub.execute_input": "2022-05-03T16:05:50.360703Z",
     "iopub.status.busy": "2022-05-03T16:05:50.359525Z",
     "iopub.status.idle": "2022-05-03T16:05:50.375095Z",
     "shell.execute_reply": "2022-05-03T16:05:50.373782Z",
     "shell.execute_reply.started": "2022-05-03T16:05:50.360619Z"
    }
   },
   "outputs": [
    {
     "name": "stdout",
     "output_type": "stream",
     "text": [
      "\n",
      "Number of requests remained unattended from Airport during the Evening rush due to unavialabilty of cars : 1321\n"
     ]
    }
   ],
   "source": [
    "filter_bool_series = (uber['timeslot'] == 'Evening_Rush') & (uber['Status'] == 'No Cars Available') & (uber['Pickup point'] == 'Airport') # creating the filter series\n",
    "\n",
    "num = filter_bool_series.sum() # summing up boolean series which will be eqaul to the length the filtered dataframe based on the above conditions\n",
    "\n",
    "print('\\nNumber of requests remained unattended from Airport during the Evening rush due to unavialabilty of cars :', num) # printing the number"
   ]
  },
  {
   "cell_type": "markdown",
   "metadata": {},
   "source": [
    "**Lets look at the severity requests getting cancelled at Airport during the Evening_Rush**"
   ]
  },
  {
   "cell_type": "code",
   "execution_count": 92,
   "metadata": {
    "execution": {
     "iopub.execute_input": "2022-05-03T16:06:12.890493Z",
     "iopub.status.busy": "2022-05-03T16:06:12.890098Z",
     "iopub.status.idle": "2022-05-03T16:06:12.903597Z",
     "shell.execute_reply": "2022-05-03T16:06:12.902562Z",
     "shell.execute_reply.started": "2022-05-03T16:06:12.890455Z"
    }
   },
   "outputs": [
    {
     "name": "stdout",
     "output_type": "stream",
     "text": [
      "\n",
      "Number of cancelled Trips from Airport during the Evening rush : 106\n"
     ]
    }
   ],
   "source": [
    "filter_bool_series = (uber['timeslot'] == 'Evening_Rush') & (uber['Status'] == 'Cancelled') & (uber['Pickup point'] == 'Airport') # creating the filter series\n",
    "\n",
    "num = filter_bool_series.sum() # summing up boolean series which will be eqaul to the length the filtered dataframe based on the above conditions\n",
    "\n",
    "print('\\nNumber of cancelled Trips from Airport during the Evening rush :', num) # printing the number"
   ]
  },
  {
   "cell_type": "markdown",
   "metadata": {},
   "source": [
    "**Lets look at the counts by the status - during the Evening_Rush hours with pickup point == 'Airport'**"
   ]
  },
  {
   "cell_type": "code",
   "execution_count": 93,
   "metadata": {
    "execution": {
     "iopub.execute_input": "2022-05-03T16:06:33.001755Z",
     "iopub.status.busy": "2022-05-03T16:06:33.001434Z",
     "iopub.status.idle": "2022-05-03T16:06:33.010419Z",
     "shell.execute_reply": "2022-05-03T16:06:33.009831Z",
     "shell.execute_reply.started": "2022-05-03T16:06:33.001722Z"
    }
   },
   "outputs": [
    {
     "name": "stdout",
     "output_type": "stream",
     "text": [
      "The total number of request made during the Evening_Rush in the Airport :  1800\n"
     ]
    }
   ],
   "source": [
    "## Total request made in Airport during the Evening_Rush\n",
    "\n",
    "filter_bool_series = ((uber['timeslot'] == 'Evening_Rush') & (uber['Pickup point'] == 'Airport'))\n",
    "num = filter_bool_series.sum()\n",
    "print('The total number of request made during the Evening_Rush in the Airport : ',num)"
   ]
  },
  {
   "cell_type": "code",
   "execution_count": 94,
   "metadata": {
    "execution": {
     "iopub.execute_input": "2022-05-03T16:06:52.904667Z",
     "iopub.status.busy": "2022-05-03T16:06:52.903436Z",
     "iopub.status.idle": "2022-05-03T16:06:52.920552Z",
     "shell.execute_reply": "2022-05-03T16:06:52.919306Z",
     "shell.execute_reply.started": "2022-05-03T16:06:52.904606Z"
    }
   },
   "outputs": [
    {
     "data": {
      "text/plain": [
       "No Cars Available    1321\n",
       "Trip Completed        373\n",
       "Cancelled             106\n",
       "Name: Status, dtype: int64"
      ]
     },
     "execution_count": 94,
     "metadata": {},
     "output_type": "execute_result"
    }
   ],
   "source": [
    "# Count of status with pick up = 'Airport' & Time Slot = 'Evening Rush'\n",
    "\n",
    "uber_eve_airport = uber[(uber['timeslot'] == 'Evening_Rush') & (uber['Pickup point'] == 'Airport')]\n",
    "uber_eve_airport['Status'].value_counts()"
   ]
  },
  {
   "cell_type": "code",
   "execution_count": 95,
   "metadata": {
    "execution": {
     "iopub.execute_input": "2022-05-03T16:07:49.488833Z",
     "iopub.status.busy": "2022-05-03T16:07:49.487815Z",
     "iopub.status.idle": "2022-05-03T16:07:49.506323Z",
     "shell.execute_reply": "2022-05-03T16:07:49.505436Z",
     "shell.execute_reply.started": "2022-05-03T16:07:49.488786Z"
    }
   },
   "outputs": [
    {
     "data": {
      "text/html": [
       "<div>\n",
       "<style scoped>\n",
       "    .dataframe tbody tr th:only-of-type {\n",
       "        vertical-align: middle;\n",
       "    }\n",
       "\n",
       "    .dataframe tbody tr th {\n",
       "        vertical-align: top;\n",
       "    }\n",
       "\n",
       "    .dataframe thead th {\n",
       "        text-align: right;\n",
       "    }\n",
       "</style>\n",
       "<table border=\"1\" class=\"dataframe\">\n",
       "  <thead>\n",
       "    <tr style=\"text-align: right;\">\n",
       "      <th></th>\n",
       "      <th>Status</th>\n",
       "      <th>Count</th>\n",
       "      <th>% Distribution</th>\n",
       "    </tr>\n",
       "  </thead>\n",
       "  <tbody>\n",
       "    <tr>\n",
       "      <th>0</th>\n",
       "      <td>No Cars Available</td>\n",
       "      <td>1321</td>\n",
       "      <td>73.39</td>\n",
       "    </tr>\n",
       "    <tr>\n",
       "      <th>1</th>\n",
       "      <td>Trip Completed</td>\n",
       "      <td>373</td>\n",
       "      <td>20.72</td>\n",
       "    </tr>\n",
       "    <tr>\n",
       "      <th>2</th>\n",
       "      <td>Cancelled</td>\n",
       "      <td>106</td>\n",
       "      <td>5.89</td>\n",
       "    </tr>\n",
       "  </tbody>\n",
       "</table>\n",
       "</div>"
      ],
      "text/plain": [
       "              Status  Count  % Distribution\n",
       "0  No Cars Available   1321           73.39\n",
       "1     Trip Completed    373           20.72\n",
       "2          Cancelled    106            5.89"
      ]
     },
     "execution_count": 95,
     "metadata": {},
     "output_type": "execute_result"
    }
   ],
   "source": [
    "# lets look at the count and distribution of the 'Status variable and print it in a dataframe format for the given condition\n",
    "\n",
    "a = uber_eve_airport['Status'].value_counts().index\n",
    "b = uber_eve_airport['Status'].value_counts().values\n",
    "c = uber_eve_airport['Status'].value_counts(normalize = True).values.round(4)*100\n",
    "pd.DataFrame({'Status':a,'Count':b,'% Distribution':c})"
   ]
  },
  {
   "cell_type": "markdown",
   "metadata": {},
   "source": [
    "**Inference**\n",
    "\n",
    "1. Almost 73% of the request are getting unattended due to the non-availability of Cars at the Airport during the Evening_Rush hours"
   ]
  },
  {
   "cell_type": "code",
   "execution_count": 96,
   "metadata": {
    "execution": {
     "iopub.execute_input": "2022-05-03T16:09:53.104917Z",
     "iopub.status.busy": "2022-05-03T16:09:53.103615Z",
     "iopub.status.idle": "2022-05-03T16:09:53.244159Z",
     "shell.execute_reply": "2022-05-03T16:09:53.243101Z",
     "shell.execute_reply.started": "2022-05-03T16:09:53.104858Z"
    }
   },
   "outputs": [
    {
     "data": {
      "image/png": "[encoded data removed]",
      "text/plain": [
       "<Figure size 576x576 with 1 Axes>"
      ]
     },
     "metadata": {},
     "output_type": "display_data"
    }
   ],
   "source": [
    "## Lets plot the distibution of each status values (Airport, Evening_Rush) in pie plot\n",
    "\n",
    "plt.figure(figsize = [8,8])\n",
    "\n",
    "plot_data = uber_eve_airport['Status'].value_counts(normalize = True)\n",
    "\n",
    "plt.pie(plot_data, autopct = '%1.1f%%', shadow = True)\n",
    "plt.show()"
   ]
  },
  {
   "cell_type": "markdown",
   "metadata": {},
   "source": [
    "**Inference:**\n",
    "\n",
    "1. Almost 73% of the request are getting unattended due to the non-availability of Cars at the Airport during the Evening_Rush hours\n",
    "2. Only 6% of the request are getting cancelled, this is because : - the supply is very minimal to the heavy demand at that time\n",
    "3. Only 21% of request is able to get through, is a matter of concern during the time slot"
   ]
  },
  {
   "cell_type": "markdown",
   "metadata": {},
   "source": [
    "Putting the two Critical Scenarios Together\n",
    "\n",
    "1. Morning Rush - City - Cancellation (49%)\n",
    "1. Evening Rush - Airport - Non avialabilty of Cars (73%)"
   ]
  }
 ],
 "metadata": {
  "kernelspec": {
   "display_name": "Python 3 (ipykernel)",
   "language": "python",
   "name": "python3"
  },
  "language_info": {
   "codemirror_mode": {
    "name": "ipython",
    "version": 3
   },
   "file_extension": ".py",
   "mimetype": "text/x-python",
   "name": "python",
   "nbconvert_exporter": "python",
   "pygments_lexer": "ipython3",
   "version": "3.9.7"
  }
 },
 "nbformat": 4,
 "nbformat_minor": 4
}
